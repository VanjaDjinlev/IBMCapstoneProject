{
 "cells": [
  {
   "cell_type": "code",
   "execution_count": 10,
   "metadata": {},
   "outputs": [],
   "source": [
    "import pandas as pd\n",
    "import numpy as np"
   ]
  },
  {
   "cell_type": "code",
   "execution_count": 16,
   "metadata": {},
   "outputs": [],
   "source": [
    "df = pd.read_html('https://en.wikipedia.org/wiki/List_of_postal_codes_of_Canada:_M')[0]"
   ]
  },
  {
   "cell_type": "code",
   "execution_count": 17,
   "metadata": {},
   "outputs": [
    {
     "data": {
      "text/html": [
       "<div>\n",
       "<style scoped>\n",
       "    .dataframe tbody tr th:only-of-type {\n",
       "        vertical-align: middle;\n",
       "    }\n",
       "\n",
       "    .dataframe tbody tr th {\n",
       "        vertical-align: top;\n",
       "    }\n",
       "\n",
       "    .dataframe thead th {\n",
       "        text-align: right;\n",
       "    }\n",
       "</style>\n",
       "<table border=\"1\" class=\"dataframe\">\n",
       "  <thead>\n",
       "    <tr style=\"text-align: right;\">\n",
       "      <th></th>\n",
       "      <th>Postal Code</th>\n",
       "      <th>Borough</th>\n",
       "      <th>Neighbourhood</th>\n",
       "    </tr>\n",
       "  </thead>\n",
       "  <tbody>\n",
       "    <tr>\n",
       "      <th>0</th>\n",
       "      <td>M1A</td>\n",
       "      <td>Not assigned</td>\n",
       "      <td>Not assigned</td>\n",
       "    </tr>\n",
       "    <tr>\n",
       "      <th>1</th>\n",
       "      <td>M2A</td>\n",
       "      <td>Not assigned</td>\n",
       "      <td>Not assigned</td>\n",
       "    </tr>\n",
       "    <tr>\n",
       "      <th>2</th>\n",
       "      <td>M3A</td>\n",
       "      <td>North York</td>\n",
       "      <td>Parkwoods</td>\n",
       "    </tr>\n",
       "    <tr>\n",
       "      <th>3</th>\n",
       "      <td>M4A</td>\n",
       "      <td>North York</td>\n",
       "      <td>Victoria Village</td>\n",
       "    </tr>\n",
       "    <tr>\n",
       "      <th>4</th>\n",
       "      <td>M5A</td>\n",
       "      <td>Downtown Toronto</td>\n",
       "      <td>Regent Park, Harbourfront</td>\n",
       "    </tr>\n",
       "  </tbody>\n",
       "</table>\n",
       "</div>"
      ],
      "text/plain": [
       "  Postal Code           Borough              Neighbourhood\n",
       "0         M1A      Not assigned               Not assigned\n",
       "1         M2A      Not assigned               Not assigned\n",
       "2         M3A        North York                  Parkwoods\n",
       "3         M4A        North York           Victoria Village\n",
       "4         M5A  Downtown Toronto  Regent Park, Harbourfront"
      ]
     },
     "execution_count": 17,
     "metadata": {},
     "output_type": "execute_result"
    }
   ],
   "source": [
    "df.head()"
   ]
  },
  {
   "cell_type": "code",
   "execution_count": 18,
   "metadata": {},
   "outputs": [
    {
     "data": {
      "text/plain": [
       "(180, 3)"
      ]
     },
     "execution_count": 18,
     "metadata": {},
     "output_type": "execute_result"
    }
   ],
   "source": [
    "df.shape"
   ]
  },
  {
   "cell_type": "markdown",
   "metadata": {},
   "source": [
    "# SAVING THE FILE TO COMBINE THE DATA IN A DIFFERENT PYTHON FILE"
   ]
  },
  {
   "cell_type": "code",
   "execution_count": 19,
   "metadata": {},
   "outputs": [],
   "source": [
    "df.to_csv(r'C:\\Users\\vanja\\Desktop\\Google Drive\\Online Courses\\IBM Data Science\\Capstone Project\\Canada.csv', index = False)"
   ]
  },
  {
   "cell_type": "code",
   "execution_count": 21,
   "metadata": {},
   "outputs": [],
   "source": [
    "df1 = pd.read_csv(r\"C:\\Users\\vanja\\Desktop\\Google Drive\\Online Courses\\IBM Data Science\\Capstone Project\\Canada.csv\")"
   ]
  },
  {
   "cell_type": "code",
   "execution_count": 22,
   "metadata": {},
   "outputs": [
    {
     "data": {
      "text/plain": [
       "(103, 5)"
      ]
     },
     "execution_count": 22,
     "metadata": {},
     "output_type": "execute_result"
    }
   ],
   "source": [
    "df1.shape"
   ]
  },
  {
   "cell_type": "markdown",
   "metadata": {},
   "source": [
    "# CREATING CLUSTERS / NEIGHBORHOODS"
   ]
  },
  {
   "cell_type": "code",
   "execution_count": 24,
   "metadata": {
    "scrolled": true
   },
   "outputs": [
    {
     "name": "stdout",
     "output_type": "stream",
     "text": [
      "Libraries imported.\n"
     ]
    },
    {
     "name": "stderr",
     "output_type": "stream",
     "text": [
      "usage: conda-script.py [-h] [-V] command ...\n",
      "conda-script.py: error: unrecognized arguments: # uncomment this line if you haven't completed the Foursquare API lab\n"
     ]
    }
   ],
   "source": [
    "import numpy as np\n",
    "\n",
    "import pandas as pd\n",
    "pd.set_option('display.max_columns', None)\n",
    "pd.set_option('display.max_rows', None)\n",
    "\n",
    "import json\n",
    "\n",
    "from geopy.geocoders import Nominatim \n",
    "\n",
    "import requests \n",
    "from pandas.io.json import json_normalize \n",
    "\n",
    "import matplotlib.cm as cm\n",
    "import matplotlib.colors as colors\n",
    "\n",
    "from sklearn.cluster import KMeans\n",
    "\n",
    "!conda install -c conda-forge folium=0.5.0 --yes # uncomment this line if you haven't completed the Foursquare API lab\n",
    "import folium\n",
    "\n",
    "print('Libraries imported.')"
   ]
  },
  {
   "cell_type": "markdown",
   "metadata": {},
   "source": [
    "# FOCUS ONLY ON TORONTO"
   ]
  },
  {
   "cell_type": "code",
   "execution_count": 25,
   "metadata": {},
   "outputs": [
    {
     "data": {
      "text/html": [
       "<div>\n",
       "<style scoped>\n",
       "    .dataframe tbody tr th:only-of-type {\n",
       "        vertical-align: middle;\n",
       "    }\n",
       "\n",
       "    .dataframe tbody tr th {\n",
       "        vertical-align: top;\n",
       "    }\n",
       "\n",
       "    .dataframe thead th {\n",
       "        text-align: right;\n",
       "    }\n",
       "</style>\n",
       "<table border=\"1\" class=\"dataframe\">\n",
       "  <thead>\n",
       "    <tr style=\"text-align: right;\">\n",
       "      <th></th>\n",
       "      <th>Postal Code</th>\n",
       "      <th>Borough</th>\n",
       "      <th>Neighbourhood</th>\n",
       "      <th>Latitude</th>\n",
       "      <th>Longitude</th>\n",
       "    </tr>\n",
       "  </thead>\n",
       "  <tbody>\n",
       "    <tr>\n",
       "      <th>0</th>\n",
       "      <td>M4E</td>\n",
       "      <td>East Toronto</td>\n",
       "      <td>The Beaches</td>\n",
       "      <td>43.676357</td>\n",
       "      <td>-79.293031</td>\n",
       "    </tr>\n",
       "    <tr>\n",
       "      <th>1</th>\n",
       "      <td>M4K</td>\n",
       "      <td>East Toronto</td>\n",
       "      <td>The Danforth West, Riverdale</td>\n",
       "      <td>43.679557</td>\n",
       "      <td>-79.352188</td>\n",
       "    </tr>\n",
       "    <tr>\n",
       "      <th>2</th>\n",
       "      <td>M4L</td>\n",
       "      <td>East Toronto</td>\n",
       "      <td>India Bazaar, The Beaches West</td>\n",
       "      <td>43.668999</td>\n",
       "      <td>-79.315572</td>\n",
       "    </tr>\n",
       "    <tr>\n",
       "      <th>3</th>\n",
       "      <td>M4M</td>\n",
       "      <td>East Toronto</td>\n",
       "      <td>Studio District</td>\n",
       "      <td>43.659526</td>\n",
       "      <td>-79.340923</td>\n",
       "    </tr>\n",
       "    <tr>\n",
       "      <th>4</th>\n",
       "      <td>M4N</td>\n",
       "      <td>Central Toronto</td>\n",
       "      <td>Lawrence Park</td>\n",
       "      <td>43.728020</td>\n",
       "      <td>-79.388790</td>\n",
       "    </tr>\n",
       "  </tbody>\n",
       "</table>\n",
       "</div>"
      ],
      "text/plain": [
       "  Postal Code          Borough                   Neighbourhood   Latitude  \\\n",
       "0         M4E     East Toronto                     The Beaches  43.676357   \n",
       "1         M4K     East Toronto    The Danforth West, Riverdale  43.679557   \n",
       "2         M4L     East Toronto  India Bazaar, The Beaches West  43.668999   \n",
       "3         M4M     East Toronto                 Studio District  43.659526   \n",
       "4         M4N  Central Toronto                   Lawrence Park  43.728020   \n",
       "\n",
       "   Longitude  \n",
       "0 -79.293031  \n",
       "1 -79.352188  \n",
       "2 -79.315572  \n",
       "3 -79.340923  \n",
       "4 -79.388790  "
      ]
     },
     "execution_count": 25,
     "metadata": {},
     "output_type": "execute_result"
    }
   ],
   "source": [
    "toronto_data= df1[df1['Borough'].str.contains('Toronto', na = False)].reset_index(drop=True)\n",
    "toronto_data.head()"
   ]
  },
  {
   "cell_type": "code",
   "execution_count": 27,
   "metadata": {},
   "outputs": [],
   "source": [
    "latitude = 43.6532 ### LAT AND LON OF TORONTO\n",
    "longitude= -79.3832"
   ]
  },
  {
   "cell_type": "markdown",
   "metadata": {},
   "source": [
    "# CREATE A MAP"
   ]
  },
  {
   "cell_type": "code",
   "execution_count": 28,
   "metadata": {},
   "outputs": [
    {
     "data": {
      "text/html": [
       "<div style=\"width:100%;\"><div style=\"position:relative;width:100%;height:0;padding-bottom:60%;\"><span style=\"color:#565656\">Make this Notebook Trusted to load map: File -> Trust Notebook</span><iframe src=\"about:blank\" style=\"position:absolute;width:100%;height:100%;left:0;top:0;border:none !important;\" data-html=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 onload=\"this.contentDocument.open();this.contentDocument.write(atob(this.getAttribute('data-html')));this.contentDocument.close();\" allowfullscreen webkitallowfullscreen mozallowfullscreen></iframe></div></div>"
      ],
      "text/plain": [
       "<folium.folium.Map at 0x1e0e22d9820>"
      ]
     },
     "execution_count": 28,
     "metadata": {},
     "output_type": "execute_result"
    }
   ],
   "source": [
    "map_toronto = folium.Map(location=[latitude, longitude], zoom_start=11)\n",
    "\n",
    "for lat, lng, label in zip(toronto_data['Latitude'], toronto_data['Longitude'], toronto_data['Neighbourhood']):\n",
    "    label = folium.Popup(label, parse_html=True)\n",
    "    folium.CircleMarker(\n",
    "        [lat, lng],\n",
    "        radius=5,\n",
    "        popup=label,\n",
    "        color='blue',\n",
    "        fill=True,\n",
    "        fill_color='#3186cc',\n",
    "        fill_opacity=0.7,\n",
    "        parse_html=False).add_to(map_toronto)  \n",
    "    \n",
    "map_toronto"
   ]
  },
  {
   "cell_type": "code",
   "execution_count": null,
   "metadata": {},
   "outputs": [],
   "source": []
  }
 ],
 "metadata": {
  "kernelspec": {
   "display_name": "Python 3",
   "language": "python",
   "name": "python3"
  },
  "language_info": {
   "codemirror_mode": {
    "name": "ipython",
    "version": 3
   },
   "file_extension": ".py",
   "mimetype": "text/x-python",
   "name": "python",
   "nbconvert_exporter": "python",
   "pygments_lexer": "ipython3",
   "version": "3.8.5"
  }
 },
 "nbformat": 4,
 "nbformat_minor": 4
}
