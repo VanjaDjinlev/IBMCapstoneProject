{
 "cells": [
  {
   "cell_type": "markdown",
   "metadata": {},
   "source": [
    "# OPENING A GREEK RESTAURANT IN NEW YORK: AN EXPLORATORY ANALYSIS\n",
    "## A report submited as the Capstone project for IBM Data Science course"
   ]
  },
  {
   "cell_type": "markdown",
   "metadata": {},
   "source": [
    "#"
   ]
  },
  {
   "cell_type": "markdown",
   "metadata": {},
   "source": [
    "## Table of Contents\n",
    "### 1. Introduction\n",
    "### 2. Data Definition\n",
    "### 3. Methodology\n",
    "### 4. Results\n",
    "### 5. Discussion\n",
    "### 6. Conclusion"
   ]
  },
  {
   "cell_type": "markdown",
   "metadata": {},
   "source": [
    "#"
   ]
  },
  {
   "cell_type": "markdown",
   "metadata": {},
   "source": [
    "## 1. Introduction and Problem Statement\n",
    "\n",
    "### As one of the most densely populated cities in the world, New York is a prime example of heavy competition when it comes to food joints and options. The food and restaurant business is a challenging yet rewarding aspect of living in New York, which stands to be a good opportunity to open a specific restaurant that will serve delicacies from a different country. More specifically, this report will provide an exploratory analysis of New York, in order to open a Greek restaurant in an area which is not served nor it has a Greek restaurant in the vicinity. In other words, this report will utilize the knowledge gathered throughout this course in order to map all of the Greek restaurants in New York, upon which an investment analysis can be made in the future."
   ]
  },
  {
   "cell_type": "markdown",
   "metadata": {},
   "source": [
    "#"
   ]
  },
  {
   "cell_type": "markdown",
   "metadata": {},
   "source": [
    "## 2. Data Definition\n",
    "\n",
    "### In order to execute the goal of this report, the analysis presented hereinafter will adopt the Foursquare API information of the Greek restaurants in New York city. More specifically, the data will be gathered in the same fashion as the shown in the course, starting from the same location. However, in order to visualize the data, a different type of restaurant will be chosen. The starting location will remain the same as in the lectures. After visualizing the Greek restaurants in New York, an investment decision can be made. "
   ]
  },
  {
   "cell_type": "markdown",
   "metadata": {},
   "source": [
    "## 3. Methodology"
   ]
  },
  {
   "cell_type": "code",
   "execution_count": 1,
   "metadata": {},
   "outputs": [
    {
     "name": "stdout",
     "output_type": "stream",
     "text": [
      "Folium installed\n",
      "Libraries imported.\n"
     ]
    }
   ],
   "source": [
    "import requests # library to handle requests\n",
    "import pandas as pd # library for data analsysis\n",
    "import numpy as np # library to handle data in a vectorized manner\n",
    "import random # library for random number generation\n",
    "\n",
    "\n",
    "#!pip install geopy\n",
    "from geopy.geocoders import Nominatim # module to convert an address into latitude and longitude values\n",
    "\n",
    "# libraries for displaying images\n",
    "from IPython.display import Image \n",
    "from IPython.core.display import HTML \n",
    "    \n",
    "# tranforming json file into a pandas dataframe library\n",
    "from pandas.io.json import json_normalize\n",
    "\n",
    "\n",
    "#! pip install folium==0.5.0\n",
    "import folium # plotting library\n",
    "\n",
    "print('Folium installed')\n",
    "print('Libraries imported.')"
   ]
  },
  {
   "cell_type": "code",
   "execution_count": null,
   "metadata": {},
   "outputs": [],
   "source": []
  },
  {
   "cell_type": "code",
   "execution_count": null,
   "metadata": {},
   "outputs": [],
   "source": []
  }
 ],
 "metadata": {
  "kernelspec": {
   "display_name": "Python 3",
   "language": "python",
   "name": "python3"
  },
  "language_info": {
   "codemirror_mode": {
    "name": "ipython",
    "version": 3
   },
   "file_extension": ".py",
   "mimetype": "text/x-python",
   "name": "python",
   "nbconvert_exporter": "python",
   "pygments_lexer": "ipython3",
   "version": "3.8.5"
  }
 },
 "nbformat": 4,
 "nbformat_minor": 4
}
